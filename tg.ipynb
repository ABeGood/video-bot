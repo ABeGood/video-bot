{
 "cells": [
  {
   "cell_type": "code",
   "execution_count": 4,
   "metadata": {},
   "outputs": [],
   "source": [
    "import config"
   ]
  },
  {
   "cell_type": "markdown",
   "metadata": {},
   "source": [
    "## Tg bot"
   ]
  },
  {
   "cell_type": "code",
   "execution_count": 8,
   "metadata": {},
   "outputs": [],
   "source": [
    "import tg_api\n",
    "from telegram import Bot\n",
    "from telegram.ext import Application, ApplicationBuilder, CommandHandler, CallbackContext, ContextTypes"
   ]
  },
  {
   "cell_type": "code",
   "execution_count": 2,
   "metadata": {},
   "outputs": [
    {
     "name": "stdout",
     "output_type": "stream",
     "text": [
      "Post sent successfully\n"
     ]
    }
   ],
   "source": [
    "tg_api.post(message=\"...\", channels=[config.test_chat_id])"
   ]
  },
  {
   "cell_type": "code",
   "execution_count": 4,
   "metadata": {},
   "outputs": [],
   "source": [
    "# bot = Application.builder().token(config.token).build()\n",
    "bot = Application.builder().token(config.tg_bot_token).build()\n",
    "# bot.add_handler(CommandHandler(\"post\", respond_post))\n",
    "\n",
    "# start and poll for updates, press CRTL+C to stop\n",
    "# bot.run_polling()"
   ]
  },
  {
   "cell_type": "code",
   "execution_count": 2,
   "metadata": {},
   "outputs": [],
   "source": [
    "bot = Bot(config.tg_bot_token)"
   ]
  },
  {
   "cell_type": "code",
   "execution_count": 6,
   "metadata": {},
   "outputs": [
    {
     "data": {
      "text/plain": [
       "Message(channel_chat_created=False, chat=Chat(id=-1002051977202, title='Videos', type=<ChatType.CHANNEL>, username='videos_test_ag'), date=datetime.datetime(2024, 3, 16, 16, 10, 31, tzinfo=datetime.timezone.utc), delete_chat_photo=False, group_chat_created=False, message_id=6, photo=(PhotoSize(file_id='AgACAgQAAx0Eek6v8gADBmX1xHcJ6y-nVbhw63QCpJt9OvZ3AALVwDEbC_SxU7G4aTynOkOvAQADAgADcwADNAQ', file_size=1555, file_unique_id='AQAD1cAxGwv0sVN4', height=74, width=90), PhotoSize(file_id='AgACAgQAAx0Eek6v8gADBmX1xHcJ6y-nVbhw63QCpJt9OvZ3AALVwDEbC_SxU7G4aTynOkOvAQADAgADbQADNAQ', file_size=17673, file_unique_id='AQAD1cAxGwv0sVNy', height=264, width=320), PhotoSize(file_id='AgACAgQAAx0Eek6v8gADBmX1xHcJ6y-nVbhw63QCpJt9OvZ3AALVwDEbC_SxU7G4aTynOkOvAQADAgADeAADNAQ', file_size=31958, file_unique_id='AQAD1cAxGwv0sVN9', height=398, width=483)), sender_chat=Chat(id=-1002051977202, title='Videos', type=<ChatType.CHANNEL>, username='videos_test_ag'), supergroup_chat_created=False)"
      ]
     },
     "execution_count": 6,
     "metadata": {},
     "output_type": "execute_result"
    }
   ],
   "source": [
    "photo = open('photo.png', 'rb')\n",
    "await bot.send_photo(config.test_chat_id, photo=photo)"
   ]
  },
  {
   "cell_type": "code",
   "execution_count": 7,
   "metadata": {},
   "outputs": [
    {
     "data": {
      "text/plain": [
       "Message(channel_chat_created=False, chat=Chat(id=-1002051977202, title='Videos', type=<ChatType.CHANNEL>, username='videos_test_ag'), date=datetime.datetime(2024, 3, 16, 16, 13, 8, tzinfo=datetime.timezone.utc), delete_chat_photo=False, group_chat_created=False, message_id=7, sender_chat=Chat(id=-1002051977202, title='Videos', type=<ChatType.CHANNEL>, username='videos_test_ag'), supergroup_chat_created=False, video=Video(api_kwargs={'thumb': {'file_id': 'AAMCBAADHQR6Tq_yAAMHZfXFFMEd3ExYe-RrnxWRVsA9DfcAAkIUAAIL9LFTBRvLn48gYtUBAAdtAAM0BA', 'file_unique_id': 'AQADQhQAAgv0sVNy', 'file_size': 15463, 'width': 180, 'height': 320}}, duration=8, file_id='BAACAgQAAx0Eek6v8gADB2X1xRTBHdxMWHvka58VkVbAPQ33AAJCFAACC_SxUwUby5-PIGLVNAQ', file_name='video.mp4', file_size=2508703, file_unique_id='AgADQhQAAgv0sVM', height=1280, mime_type='video/mp4', thumbnail=PhotoSize(file_id='AAMCBAADHQR6Tq_yAAMHZfXFFMEd3ExYe-RrnxWRVsA9DfcAAkIUAAIL9LFTBRvLn48gYtUBAAdtAAM0BA', file_size=15463, file_unique_id='AQADQhQAAgv0sVNy', height=320, width=180), width=720))"
      ]
     },
     "execution_count": 7,
     "metadata": {},
     "output_type": "execute_result"
    }
   ],
   "source": [
    "video = open('video.mp4', 'rb')\n",
    "await bot.send_video(config.test_chat_id, video=video)"
   ]
  },
  {
   "cell_type": "markdown",
   "metadata": {},
   "source": [
    "## HTTP Requests"
   ]
  },
  {
   "cell_type": "markdown",
   "metadata": {},
   "source": [
    "https://developers.facebook.com/docs/facebook-login/guides/access-tokens#-----------------------------meta"
   ]
  },
  {
   "cell_type": "code",
   "execution_count": 5,
   "metadata": {},
   "outputs": [],
   "source": [
    "import requests"
   ]
  },
  {
   "cell_type": "code",
   "execution_count": 17,
   "metadata": {},
   "outputs": [],
   "source": [
    "ig_user_id = 'coco.memes.101'"
   ]
  },
  {
   "cell_type": "code",
   "execution_count": 6,
   "metadata": {},
   "outputs": [],
   "source": [
    "# api-endpoint\n",
    "URL = f'https://graph.facebook.com/oauth/access_token?client_id={config.inst_app_id}&client_secret={config.inst_app_secret}&grant_type=client_credentials'"
   ]
  },
  {
   "cell_type": "code",
   "execution_count": 22,
   "metadata": {},
   "outputs": [],
   "source": [
    "URL = f'https://graph.facebook.com/USER-ID?access_token=3690397777864965|mjooseesjV2bM7mQbaMyUS0yiQc'"
   ]
  },
  {
   "cell_type": "code",
   "execution_count": 12,
   "metadata": {},
   "outputs": [],
   "source": [
    "URL = f'https://graph.facebook.com/me?access_token=EAA0cZAbChKQUBO6m4WwHPCs4KT7qrL1ZBZAbZAv4HvTQMq5OdZC9qtb3Lw6pbvE9BkGhhTFnUz0RrEzjtSQE4HP5Vdk0Jld8onxZCycQMyLSFABhHNXGGNUsXkZB1BZAYpMkLTO5f3jVkss5C5Rg82vJxopdZCYCZCu5hqzfhSA0lWHR7H6SnpZC2uCE2afYFSZBCJg4iUyPW5GvZBZAuNQfo5YskZD'"
   ]
  },
  {
   "cell_type": "code",
   "execution_count": 7,
   "metadata": {},
   "outputs": [
    {
     "name": "stdout",
     "output_type": "stream",
     "text": [
      "data: {'access_token': '3690397777864965|mjooseesjV2bM7mQbaMyUS0yiQc', 'token_type': 'bearer'}\n"
     ]
    }
   ],
   "source": [
    "\n",
    " \n",
    "# # location given here\n",
    "# location = \"delhi technological university\"\n",
    " \n",
    "# # defining a params dict for the parameters to be sent to the API\n",
    "# PARAMS = {'address':location}\n",
    " \n",
    "# sending get request and saving the response as response object\n",
    "# r = requests.get(url = URL, params = PARAMS)\n",
    "\n",
    "r = requests.get(url = URL)\n",
    " \n",
    "# extracting data in json format\n",
    "data = r.json()\n",
    " \n",
    " \n",
    "# printing the output\n",
    "print(f'data: {data}')"
   ]
  },
  {
   "cell_type": "markdown",
   "metadata": {},
   "source": [
    "## Instagram account ID"
   ]
  },
  {
   "cell_type": "code",
   "execution_count": 6,
   "metadata": {},
   "outputs": [],
   "source": [
    "graph_url = 'https://graph.facebook.com/v15.0/'"
   ]
  },
  {
   "cell_type": "code",
   "execution_count": 7,
   "metadata": {},
   "outputs": [],
   "source": [
    "def post_reel(instagram_account_id, caption='', media_type ='',share_to_feed='',thumb_offset='',video_url='',access_token = ''):\n",
    "    url = graph_url + instagram_account_id + '/media'\n",
    "    param = dict()\n",
    "    param['access_token'] = access_token\n",
    "    # param['caption'] = caption\n",
    "    # param['media_type'] = media_type\n",
    "    # param['share_to_feed'] = share_to_feed\n",
    "    # param['thumb_offset'] = thumb_offset\n",
    "    # param['video_url'] = video_url\n",
    "    response =  requests.post(url,params = param)\n",
    "    print(\"\\n response\",response.content)\n",
    "    response =response.json()\n",
    "    return response"
   ]
  },
  {
   "cell_type": "code",
   "execution_count": 10,
   "metadata": {},
   "outputs": [
    {
     "name": "stdout",
     "output_type": "stream",
     "text": [
      "\n",
      " response b'{\"error\":{\"message\":\"Unsupported post request. Object with ID \\'coco\\' does not exist, cannot be loaded due to missing permissions, or does not support this operation. Please read the Graph API documentation at https:\\\\/\\\\/developers.facebook.com\\\\/docs\\\\/graph-api\",\"type\":\"GraphMethodException\",\"code\":100,\"error_subcode\":33,\"fbtrace_id\":\"A3Flfudds-gTGZhg9F89uAS\"}}'\n"
     ]
    }
   ],
   "source": [
    "restponse = post_reel(instagram_account_id='coco', access_token='3690397777864965|mjooseesjV2bM7mQbaMyUS0yiQc')"
   ]
  },
  {
   "cell_type": "markdown",
   "metadata": {},
   "source": [
    "## Instagrapi"
   ]
  },
  {
   "cell_type": "code",
   "execution_count": 1,
   "metadata": {},
   "outputs": [],
   "source": [
    "from instagrapi import Client"
   ]
  },
  {
   "cell_type": "code",
   "execution_count": 2,
   "metadata": {},
   "outputs": [
    {
     "ename": "UnknownError",
     "evalue": "We couldn't find an account with the username coco.memes.101. Check the username you entered and try again.",
     "output_type": "error",
     "traceback": [
      "\u001b[1;31m---------------------------------------------------------------------------\u001b[0m",
      "\u001b[1;31mHTTPError\u001b[0m                                 Traceback (most recent call last)",
      "File \u001b[1;32md:\\Projects\\scene_detect\\.venv\\lib\\site-packages\\instagrapi\\mixins\\private.py:359\u001b[0m, in \u001b[0;36mPrivateRequestMixin._send_private_request\u001b[1;34m(self, endpoint, data, params, login, with_signature, headers, extra_sig, domain)\u001b[0m\n\u001b[0;32m    358\u001b[0m \u001b[38;5;28mself\u001b[39m\u001b[38;5;241m.\u001b[39mlast_response \u001b[38;5;241m=\u001b[39m response\n\u001b[1;32m--> 359\u001b[0m \u001b[43mresponse\u001b[49m\u001b[38;5;241;43m.\u001b[39;49m\u001b[43mraise_for_status\u001b[49m\u001b[43m(\u001b[49m\u001b[43m)\u001b[49m\n\u001b[0;32m    360\u001b[0m \u001b[38;5;66;03m# last_json - for Sentry context in traceback\u001b[39;00m\n",
      "File \u001b[1;32md:\\Projects\\scene_detect\\.venv\\lib\\site-packages\\requests\\models.py:1021\u001b[0m, in \u001b[0;36mResponse.raise_for_status\u001b[1;34m(self)\u001b[0m\n\u001b[0;32m   1020\u001b[0m \u001b[38;5;28;01mif\u001b[39;00m http_error_msg:\n\u001b[1;32m-> 1021\u001b[0m     \u001b[38;5;28;01mraise\u001b[39;00m HTTPError(http_error_msg, response\u001b[38;5;241m=\u001b[39m\u001b[38;5;28mself\u001b[39m)\n",
      "\u001b[1;31mHTTPError\u001b[0m: 400 Client Error: Bad Request for url: https://i.instagram.com/api/v1/accounts/login/",
      "\nDuring handling of the above exception, another exception occurred:\n",
      "\u001b[1;31mUnknownError\u001b[0m                              Traceback (most recent call last)",
      "Cell \u001b[1;32mIn[2], line 2\u001b[0m\n\u001b[0;32m      1\u001b[0m cl \u001b[38;5;241m=\u001b[39m Client()\n\u001b[1;32m----> 2\u001b[0m \u001b[43mcl\u001b[49m\u001b[38;5;241;43m.\u001b[39;49m\u001b[43mlogin\u001b[49m\u001b[43m(\u001b[49m\u001b[38;5;124;43m'\u001b[39;49m\u001b[38;5;124;43mcoco.memes.101\u001b[39;49m\u001b[38;5;124;43m'\u001b[39;49m\u001b[43m,\u001b[49m\u001b[43m \u001b[49m\u001b[38;5;124;43m'\u001b[39;49m\u001b[38;5;124;43m951627843\u001b[39;49m\u001b[38;5;124;43m'\u001b[39;49m\u001b[43m)\u001b[49m\n\u001b[0;32m      4\u001b[0m user_id \u001b[38;5;241m=\u001b[39m cl\u001b[38;5;241m.\u001b[39muser_id_from_username(\u001b[38;5;124m'\u001b[39m\u001b[38;5;124mcoco.memes.101\u001b[39m\u001b[38;5;124m'\u001b[39m)\n\u001b[0;32m      5\u001b[0m user_id\n",
      "File \u001b[1;32md:\\Projects\\scene_detect\\.venv\\lib\\site-packages\\instagrapi\\mixins\\auth.py:441\u001b[0m, in \u001b[0;36mLoginMixin.login\u001b[1;34m(self, username, password, relogin, verification_code)\u001b[0m\n\u001b[0;32m    427\u001b[0m data \u001b[38;5;241m=\u001b[39m {\n\u001b[0;32m    428\u001b[0m     \u001b[38;5;124m\"\u001b[39m\u001b[38;5;124mjazoest\u001b[39m\u001b[38;5;124m\"\u001b[39m: generate_jazoest(\u001b[38;5;28mself\u001b[39m\u001b[38;5;241m.\u001b[39mphone_id),\n\u001b[0;32m    429\u001b[0m     \u001b[38;5;124m\"\u001b[39m\u001b[38;5;124mcountry_codes\u001b[39m\u001b[38;5;124m\"\u001b[39m: \u001b[38;5;124m'\u001b[39m\u001b[38;5;124m[\u001b[39m\u001b[38;5;124m{\u001b[39m\u001b[38;5;124m\"\u001b[39m\u001b[38;5;124mcountry_code\u001b[39m\u001b[38;5;124m\"\u001b[39m\u001b[38;5;124m:\u001b[39m\u001b[38;5;124m\"\u001b[39m\u001b[38;5;132;01m%d\u001b[39;00m\u001b[38;5;124m\"\u001b[39m\u001b[38;5;124m,\u001b[39m\u001b[38;5;124m\"\u001b[39m\u001b[38;5;124msource\u001b[39m\u001b[38;5;124m\"\u001b[39m\u001b[38;5;124m:[\u001b[39m\u001b[38;5;124m\"\u001b[39m\u001b[38;5;124mdefault\u001b[39m\u001b[38;5;124m\"\u001b[39m\u001b[38;5;124m]}]\u001b[39m\u001b[38;5;124m'\u001b[39m\n\u001b[1;32m   (...)\u001b[0m\n\u001b[0;32m    438\u001b[0m     \u001b[38;5;124m\"\u001b[39m\u001b[38;5;124mlogin_attempt_count\u001b[39m\u001b[38;5;124m\"\u001b[39m: \u001b[38;5;124m\"\u001b[39m\u001b[38;5;124m0\u001b[39m\u001b[38;5;124m\"\u001b[39m,\n\u001b[0;32m    439\u001b[0m }\n\u001b[0;32m    440\u001b[0m \u001b[38;5;28;01mtry\u001b[39;00m:\n\u001b[1;32m--> 441\u001b[0m     logged \u001b[38;5;241m=\u001b[39m \u001b[38;5;28;43mself\u001b[39;49m\u001b[38;5;241;43m.\u001b[39;49m\u001b[43mprivate_request\u001b[49m\u001b[43m(\u001b[49m\u001b[38;5;124;43m\"\u001b[39;49m\u001b[38;5;124;43maccounts/login/\u001b[39;49m\u001b[38;5;124;43m\"\u001b[39;49m\u001b[43m,\u001b[49m\u001b[43m \u001b[49m\u001b[43mdata\u001b[49m\u001b[43m,\u001b[49m\u001b[43m \u001b[49m\u001b[43mlogin\u001b[49m\u001b[38;5;241;43m=\u001b[39;49m\u001b[38;5;28;43;01mTrue\u001b[39;49;00m\u001b[43m)\u001b[49m\n\u001b[0;32m    442\u001b[0m     \u001b[38;5;28mself\u001b[39m\u001b[38;5;241m.\u001b[39mauthorization_data \u001b[38;5;241m=\u001b[39m \u001b[38;5;28mself\u001b[39m\u001b[38;5;241m.\u001b[39mparse_authorization(\n\u001b[0;32m    443\u001b[0m         \u001b[38;5;28mself\u001b[39m\u001b[38;5;241m.\u001b[39mlast_response\u001b[38;5;241m.\u001b[39mheaders\u001b[38;5;241m.\u001b[39mget(\u001b[38;5;124m\"\u001b[39m\u001b[38;5;124mig-set-authorization\u001b[39m\u001b[38;5;124m\"\u001b[39m)\n\u001b[0;32m    444\u001b[0m     )\n\u001b[0;32m    445\u001b[0m \u001b[38;5;28;01mexcept\u001b[39;00m TwoFactorRequired \u001b[38;5;28;01mas\u001b[39;00m e:\n",
      "File \u001b[1;32md:\\Projects\\scene_detect\\.venv\\lib\\site-packages\\instagrapi\\mixins\\private.py:541\u001b[0m, in \u001b[0;36mPrivateRequestMixin.private_request\u001b[1;34m(self, endpoint, data, params, login, with_signature, headers, extra_sig, domain)\u001b[0m\n\u001b[0;32m    539\u001b[0m     \u001b[38;5;28mself\u001b[39m\u001b[38;5;241m.\u001b[39mchallenge_resolve(\u001b[38;5;28mself\u001b[39m\u001b[38;5;241m.\u001b[39mlast_json)\n\u001b[0;32m    540\u001b[0m \u001b[38;5;28;01melse\u001b[39;00m:\n\u001b[1;32m--> 541\u001b[0m     \u001b[38;5;28;01mraise\u001b[39;00m e\n\u001b[0;32m    542\u001b[0m \u001b[38;5;28;01mif\u001b[39;00m login \u001b[38;5;129;01mand\u001b[39;00m \u001b[38;5;28mself\u001b[39m\u001b[38;5;241m.\u001b[39muser_id:\n\u001b[0;32m    543\u001b[0m     \u001b[38;5;66;03m# After challenge resolve return last_json\u001b[39;00m\n\u001b[0;32m    544\u001b[0m     \u001b[38;5;28;01mreturn\u001b[39;00m \u001b[38;5;28mself\u001b[39m\u001b[38;5;241m.\u001b[39mlast_json\n",
      "File \u001b[1;32md:\\Projects\\scene_detect\\.venv\\lib\\site-packages\\instagrapi\\mixins\\private.py:526\u001b[0m, in \u001b[0;36mPrivateRequestMixin.private_request\u001b[1;34m(self, endpoint, data, params, login, with_signature, headers, extra_sig, domain)\u001b[0m\n\u001b[0;32m    524\u001b[0m         random_delay(delay_range\u001b[38;5;241m=\u001b[39m\u001b[38;5;28mself\u001b[39m\u001b[38;5;241m.\u001b[39mdelay_range)\n\u001b[0;32m    525\u001b[0m     \u001b[38;5;28mself\u001b[39m\u001b[38;5;241m.\u001b[39mprivate_requests_count \u001b[38;5;241m+\u001b[39m\u001b[38;5;241m=\u001b[39m \u001b[38;5;241m1\u001b[39m\n\u001b[1;32m--> 526\u001b[0m     \u001b[38;5;28mself\u001b[39m\u001b[38;5;241m.\u001b[39m_send_private_request(endpoint, \u001b[38;5;241m*\u001b[39m\u001b[38;5;241m*\u001b[39mkwargs)\n\u001b[0;32m    527\u001b[0m \u001b[38;5;28;01mexcept\u001b[39;00m ClientRequestTimeout:\n\u001b[0;32m    528\u001b[0m     \u001b[38;5;28mself\u001b[39m\u001b[38;5;241m.\u001b[39mlogger\u001b[38;5;241m.\u001b[39minfo(\n\u001b[0;32m    529\u001b[0m         \u001b[38;5;124m\"\u001b[39m\u001b[38;5;124mWait 60 seconds and try one more time (ClientRequestTimeout)\u001b[39m\u001b[38;5;124m\"\u001b[39m\n\u001b[0;32m    530\u001b[0m     )\n",
      "File \u001b[1;32md:\\Projects\\scene_detect\\.venv\\lib\\site-packages\\instagrapi\\mixins\\private.py:448\u001b[0m, in \u001b[0;36mPrivateRequestMixin._send_private_request\u001b[1;34m(self, endpoint, data, params, login, with_signature, headers, extra_sig, domain)\u001b[0m\n\u001b[0;32m    446\u001b[0m     \u001b[38;5;28;01mraise\u001b[39;00m ProxyAddressIsBlocked(\u001b[38;5;241m*\u001b[39m\u001b[38;5;241m*\u001b[39mlast_json)\n\u001b[0;32m    447\u001b[0m \u001b[38;5;28;01melif\u001b[39;00m error_type \u001b[38;5;129;01mor\u001b[39;00m message:\n\u001b[1;32m--> 448\u001b[0m     \u001b[38;5;28;01mraise\u001b[39;00m UnknownError(\u001b[38;5;241m*\u001b[39m\u001b[38;5;241m*\u001b[39mlast_json)\n\u001b[0;32m    449\u001b[0m \u001b[38;5;66;03m# TODO: Handle last_json with {'message': 'counter get error', 'status': 'fail'}\u001b[39;00m\n\u001b[0;32m    450\u001b[0m \u001b[38;5;28mself\u001b[39m\u001b[38;5;241m.\u001b[39mlogger\u001b[38;5;241m.\u001b[39mexception(e)\n",
      "\u001b[1;31mUnknownError\u001b[0m: We couldn't find an account with the username coco.memes.101. Check the username you entered and try again."
     ]
    }
   ],
   "source": [
    "cl = Client()\n",
    "cl.login('coco.memes.101', '951627843')\n",
    "\n",
    "user_id = cl.user_id_from_username('coco.memes.101')\n",
    "user_id"
   ]
  },
  {
   "cell_type": "markdown",
   "metadata": {},
   "source": [
    "## Instagram"
   ]
  },
  {
   "cell_type": "code",
   "execution_count": 3,
   "metadata": {},
   "outputs": [],
   "source": [
    "from instagram.client import InstagramAPI"
   ]
  },
  {
   "cell_type": "code",
   "execution_count": 9,
   "metadata": {},
   "outputs": [
    {
     "ename": "InstagramClientError",
     "evalue": "(404) Unable to parse response, not valid JSON.",
     "output_type": "error",
     "traceback": [
      "\u001b[1;31m---------------------------------------------------------------------------\u001b[0m",
      "\u001b[1;31mJSONDecodeError\u001b[0m                           Traceback (most recent call last)",
      "File \u001b[1;32md:\\Projects\\scene_detect\\.venv\\lib\\site-packages\\instagram\\bind.py:130\u001b[0m, in \u001b[0;36mbind_method.<locals>.InstagramAPIMethod._do_api_request\u001b[1;34m(self, url, method, body, headers)\u001b[0m\n\u001b[0;32m    129\u001b[0m \u001b[38;5;28;01mtry\u001b[39;00m:\n\u001b[1;32m--> 130\u001b[0m     content_obj \u001b[38;5;241m=\u001b[39m \u001b[43msimplejson\u001b[49m\u001b[38;5;241;43m.\u001b[39;49m\u001b[43mloads\u001b[49m\u001b[43m(\u001b[49m\u001b[43mcontent\u001b[49m\u001b[43m)\u001b[49m\n\u001b[0;32m    131\u001b[0m \u001b[38;5;28;01mexcept\u001b[39;00m \u001b[38;5;167;01mValueError\u001b[39;00m:\n",
      "File \u001b[1;32md:\\Projects\\scene_detect\\.venv\\lib\\site-packages\\simplejson\\__init__.py:514\u001b[0m, in \u001b[0;36mloads\u001b[1;34m(s, encoding, cls, object_hook, parse_float, parse_int, parse_constant, object_pairs_hook, use_decimal, allow_nan, **kw)\u001b[0m\n\u001b[0;32m    510\u001b[0m \u001b[38;5;28;01mif\u001b[39;00m (\u001b[38;5;28mcls\u001b[39m \u001b[38;5;129;01mis\u001b[39;00m \u001b[38;5;28;01mNone\u001b[39;00m \u001b[38;5;129;01mand\u001b[39;00m encoding \u001b[38;5;129;01mis\u001b[39;00m \u001b[38;5;28;01mNone\u001b[39;00m \u001b[38;5;129;01mand\u001b[39;00m object_hook \u001b[38;5;129;01mis\u001b[39;00m \u001b[38;5;28;01mNone\u001b[39;00m \u001b[38;5;129;01mand\u001b[39;00m\n\u001b[0;32m    511\u001b[0m         parse_int \u001b[38;5;129;01mis\u001b[39;00m \u001b[38;5;28;01mNone\u001b[39;00m \u001b[38;5;129;01mand\u001b[39;00m parse_float \u001b[38;5;129;01mis\u001b[39;00m \u001b[38;5;28;01mNone\u001b[39;00m \u001b[38;5;129;01mand\u001b[39;00m\n\u001b[0;32m    512\u001b[0m         parse_constant \u001b[38;5;129;01mis\u001b[39;00m \u001b[38;5;28;01mNone\u001b[39;00m \u001b[38;5;129;01mand\u001b[39;00m object_pairs_hook \u001b[38;5;129;01mis\u001b[39;00m \u001b[38;5;28;01mNone\u001b[39;00m\n\u001b[0;32m    513\u001b[0m         \u001b[38;5;129;01mand\u001b[39;00m \u001b[38;5;129;01mnot\u001b[39;00m use_decimal \u001b[38;5;129;01mand\u001b[39;00m \u001b[38;5;129;01mnot\u001b[39;00m allow_nan \u001b[38;5;129;01mand\u001b[39;00m \u001b[38;5;129;01mnot\u001b[39;00m kw):\n\u001b[1;32m--> 514\u001b[0m     \u001b[38;5;28;01mreturn\u001b[39;00m \u001b[43m_default_decoder\u001b[49m\u001b[38;5;241;43m.\u001b[39;49m\u001b[43mdecode\u001b[49m\u001b[43m(\u001b[49m\u001b[43ms\u001b[49m\u001b[43m)\u001b[49m\n\u001b[0;32m    515\u001b[0m \u001b[38;5;28;01mif\u001b[39;00m \u001b[38;5;28mcls\u001b[39m \u001b[38;5;129;01mis\u001b[39;00m \u001b[38;5;28;01mNone\u001b[39;00m:\n",
      "File \u001b[1;32md:\\Projects\\scene_detect\\.venv\\lib\\site-packages\\simplejson\\decoder.py:386\u001b[0m, in \u001b[0;36mJSONDecoder.decode\u001b[1;34m(self, s, _w, _PY3)\u001b[0m\n\u001b[0;32m    385\u001b[0m     s \u001b[38;5;241m=\u001b[39m \u001b[38;5;28mstr\u001b[39m(s, \u001b[38;5;28mself\u001b[39m\u001b[38;5;241m.\u001b[39mencoding)\n\u001b[1;32m--> 386\u001b[0m obj, end \u001b[38;5;241m=\u001b[39m \u001b[38;5;28;43mself\u001b[39;49m\u001b[38;5;241;43m.\u001b[39;49m\u001b[43mraw_decode\u001b[49m\u001b[43m(\u001b[49m\u001b[43ms\u001b[49m\u001b[43m)\u001b[49m\n\u001b[0;32m    387\u001b[0m end \u001b[38;5;241m=\u001b[39m _w(s, end)\u001b[38;5;241m.\u001b[39mend()\n",
      "File \u001b[1;32md:\\Projects\\scene_detect\\.venv\\lib\\site-packages\\simplejson\\decoder.py:416\u001b[0m, in \u001b[0;36mJSONDecoder.raw_decode\u001b[1;34m(self, s, idx, _w, _PY3)\u001b[0m\n\u001b[0;32m    415\u001b[0m         idx \u001b[38;5;241m+\u001b[39m\u001b[38;5;241m=\u001b[39m \u001b[38;5;241m3\u001b[39m\n\u001b[1;32m--> 416\u001b[0m \u001b[38;5;28;01mreturn\u001b[39;00m \u001b[38;5;28;43mself\u001b[39;49m\u001b[38;5;241;43m.\u001b[39;49m\u001b[43mscan_once\u001b[49m\u001b[43m(\u001b[49m\u001b[43ms\u001b[49m\u001b[43m,\u001b[49m\u001b[43m \u001b[49m\u001b[43midx\u001b[49m\u001b[38;5;241;43m=\u001b[39;49m\u001b[43m_w\u001b[49m\u001b[43m(\u001b[49m\u001b[43ms\u001b[49m\u001b[43m,\u001b[49m\u001b[43m \u001b[49m\u001b[43midx\u001b[49m\u001b[43m)\u001b[49m\u001b[38;5;241;43m.\u001b[39;49m\u001b[43mend\u001b[49m\u001b[43m(\u001b[49m\u001b[43m)\u001b[49m\u001b[43m)\u001b[49m\n",
      "\u001b[1;31mJSONDecodeError\u001b[0m: Expecting value: line 1 column 1 (char 0)",
      "\nDuring handling of the above exception, another exception occurred:\n",
      "\u001b[1;31mInstagramClientError\u001b[0m                      Traceback (most recent call last)",
      "Cell \u001b[1;32mIn[9], line 4\u001b[0m\n\u001b[0;32m      2\u001b[0m client_secret \u001b[38;5;241m=\u001b[39m config\u001b[38;5;241m.\u001b[39minst_app_secret\n\u001b[0;32m      3\u001b[0m api \u001b[38;5;241m=\u001b[39m InstagramAPI(access_token\u001b[38;5;241m=\u001b[39maccess_token, client_secret\u001b[38;5;241m=\u001b[39mclient_secret)\n\u001b[1;32m----> 4\u001b[0m recent_media, next_ \u001b[38;5;241m=\u001b[39m \u001b[43mapi\u001b[49m\u001b[38;5;241;43m.\u001b[39;49m\u001b[43muser_recent_media\u001b[49m\u001b[43m(\u001b[49m\u001b[43muser_id\u001b[49m\u001b[38;5;241;43m=\u001b[39;49m\u001b[38;5;124;43m\"\u001b[39;49m\u001b[38;5;124;43mthe.andrewst\u001b[39;49m\u001b[38;5;124;43m\"\u001b[39;49m\u001b[43m,\u001b[49m\u001b[43m \u001b[49m\u001b[43mcount\u001b[49m\u001b[38;5;241;43m=\u001b[39;49m\u001b[38;5;241;43m10\u001b[39;49m\u001b[43m)\u001b[49m\n\u001b[0;32m      5\u001b[0m \u001b[38;5;28;01mfor\u001b[39;00m media \u001b[38;5;129;01min\u001b[39;00m recent_media:\n\u001b[0;32m      6\u001b[0m    \u001b[38;5;28mprint\u001b[39m(media\u001b[38;5;241m.\u001b[39mcaption\u001b[38;5;241m.\u001b[39mtext)\n",
      "File \u001b[1;32md:\\Projects\\scene_detect\\.venv\\lib\\site-packages\\instagram\\bind.py:207\u001b[0m, in \u001b[0;36mbind_method.<locals>._call\u001b[1;34m(api, *args, **kwargs)\u001b[0m\n\u001b[0;32m    205\u001b[0m \u001b[38;5;28;01mdef\u001b[39;00m \u001b[38;5;21m_call\u001b[39m(api, \u001b[38;5;241m*\u001b[39margs, \u001b[38;5;241m*\u001b[39m\u001b[38;5;241m*\u001b[39mkwargs):\n\u001b[0;32m    206\u001b[0m     method \u001b[38;5;241m=\u001b[39m InstagramAPIMethod(api, \u001b[38;5;241m*\u001b[39margs, \u001b[38;5;241m*\u001b[39m\u001b[38;5;241m*\u001b[39mkwargs)\n\u001b[1;32m--> 207\u001b[0m     \u001b[38;5;28;01mreturn\u001b[39;00m \u001b[43mmethod\u001b[49m\u001b[38;5;241;43m.\u001b[39;49m\u001b[43mexecute\u001b[49m\u001b[43m(\u001b[49m\u001b[43m)\u001b[49m\n",
      "File \u001b[1;32md:\\Projects\\scene_detect\\.venv\\lib\\site-packages\\instagram\\bind.py:198\u001b[0m, in \u001b[0;36mbind_method.<locals>.InstagramAPIMethod.execute\u001b[1;34m(self)\u001b[0m\n\u001b[0;32m    196\u001b[0m     \u001b[38;5;28;01mreturn\u001b[39;00m \u001b[38;5;28mself\u001b[39m\u001b[38;5;241m.\u001b[39m_paginator_with_url(url, method, body, headers)\n\u001b[0;32m    197\u001b[0m \u001b[38;5;28;01melse\u001b[39;00m:\n\u001b[1;32m--> 198\u001b[0m     content, next_url \u001b[38;5;241m=\u001b[39m \u001b[38;5;28;43mself\u001b[39;49m\u001b[38;5;241;43m.\u001b[39;49m\u001b[43m_do_api_request\u001b[49m\u001b[43m(\u001b[49m\u001b[43murl\u001b[49m\u001b[43m,\u001b[49m\u001b[43m \u001b[49m\u001b[43mmethod\u001b[49m\u001b[43m,\u001b[49m\u001b[43m \u001b[49m\u001b[43mbody\u001b[49m\u001b[43m,\u001b[49m\u001b[43m \u001b[49m\u001b[43mheaders\u001b[49m\u001b[43m)\u001b[49m\n\u001b[0;32m    200\u001b[0m \u001b[38;5;28;01mif\u001b[39;00m \u001b[38;5;28mself\u001b[39m\u001b[38;5;241m.\u001b[39mpaginates:\n\u001b[0;32m    201\u001b[0m     \u001b[38;5;28;01mreturn\u001b[39;00m content, next_url\n",
      "File \u001b[1;32md:\\Projects\\scene_detect\\.venv\\lib\\site-packages\\instagram\\bind.py:132\u001b[0m, in \u001b[0;36mbind_method.<locals>.InstagramAPIMethod._do_api_request\u001b[1;34m(self, url, method, body, headers)\u001b[0m\n\u001b[0;32m    130\u001b[0m     content_obj \u001b[38;5;241m=\u001b[39m simplejson\u001b[38;5;241m.\u001b[39mloads(content)\n\u001b[0;32m    131\u001b[0m \u001b[38;5;28;01mexcept\u001b[39;00m \u001b[38;5;167;01mValueError\u001b[39;00m:\n\u001b[1;32m--> 132\u001b[0m     \u001b[38;5;28;01mraise\u001b[39;00m InstagramClientError(\u001b[38;5;124m'\u001b[39m\u001b[38;5;124mUnable to parse response, not valid JSON.\u001b[39m\u001b[38;5;124m'\u001b[39m, status_code\u001b[38;5;241m=\u001b[39mresponse[\u001b[38;5;124m'\u001b[39m\u001b[38;5;124mstatus\u001b[39m\u001b[38;5;124m'\u001b[39m])\n\u001b[0;32m    134\u001b[0m \u001b[38;5;66;03m# Handle OAuthRateLimitExceeded from Instagram's Nginx which uses different format to documented api responses\u001b[39;00m\n\u001b[0;32m    135\u001b[0m \u001b[38;5;28;01mif\u001b[39;00m \u001b[38;5;124m'\u001b[39m\u001b[38;5;124mmeta\u001b[39m\u001b[38;5;124m'\u001b[39m \u001b[38;5;129;01mnot\u001b[39;00m \u001b[38;5;129;01min\u001b[39;00m content_obj:\n",
      "\u001b[1;31mInstagramClientError\u001b[0m: (404) Unable to parse response, not valid JSON."
     ]
    }
   ],
   "source": [
    "access_token = \"3690397777864965|mjooseesjV2bM7mQbaMyUS0yiQc\"\n",
    "client_secret = config.inst_app_secret\n",
    "api = InstagramAPI(access_token=access_token, client_secret=client_secret)\n",
    "recent_media, next_ = api.user_recent_media(user_id=\"the.andrewst\", count=10)\n",
    "for media in recent_media:\n",
    "   print(media.caption.text)"
   ]
  },
  {
   "cell_type": "markdown",
   "metadata": {},
   "source": [
    "## Instagram-python"
   ]
  },
  {
   "cell_type": "markdown",
   "metadata": {},
   "source": []
  }
 ],
 "metadata": {
  "kernelspec": {
   "display_name": ".venv",
   "language": "python",
   "name": "python3"
  },
  "language_info": {
   "codemirror_mode": {
    "name": "ipython",
    "version": 3
   },
   "file_extension": ".py",
   "mimetype": "text/x-python",
   "name": "python",
   "nbconvert_exporter": "python",
   "pygments_lexer": "ipython3",
   "version": "3.10.11"
  }
 },
 "nbformat": 4,
 "nbformat_minor": 2
}
