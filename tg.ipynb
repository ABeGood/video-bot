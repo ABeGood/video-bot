{
 "cells": [
  {
   "cell_type": "code",
   "execution_count": 1,
   "metadata": {},
   "outputs": [],
   "source": [
    "import tg_api\n",
    "import config\n",
    "from telegram import Bot\n",
    "from telegram.ext import Application, ApplicationBuilder, CommandHandler, CallbackContext, ContextTypes"
   ]
  },
  {
   "cell_type": "code",
   "execution_count": 2,
   "metadata": {},
   "outputs": [
    {
     "name": "stdout",
     "output_type": "stream",
     "text": [
      "Post sent successfully\n"
     ]
    }
   ],
   "source": [
    "tg_api.post(message=\"...\", channels=[config.test_chat_id])"
   ]
  },
  {
   "cell_type": "code",
   "execution_count": 4,
   "metadata": {},
   "outputs": [],
   "source": [
    "# bot = Application.builder().token(config.token).build()\n",
    "bot = Application.builder().token(config.token).build()\n",
    "# bot.add_handler(CommandHandler(\"post\", respond_post))\n",
    "\n",
    "# start and poll for updates, press CRTL+C to stop\n",
    "# bot.run_polling()"
   ]
  },
  {
   "cell_type": "code",
   "execution_count": 2,
   "metadata": {},
   "outputs": [],
   "source": [
    "bot = Bot(config.token)"
   ]
  },
  {
   "cell_type": "code",
   "execution_count": 6,
   "metadata": {},
   "outputs": [
    {
     "data": {
      "text/plain": [
       "Message(channel_chat_created=False, chat=Chat(id=-1002051977202, title='Videos', type=<ChatType.CHANNEL>, username='videos_test_ag'), date=datetime.datetime(2024, 3, 16, 16, 10, 31, tzinfo=datetime.timezone.utc), delete_chat_photo=False, group_chat_created=False, message_id=6, photo=(PhotoSize(file_id='AgACAgQAAx0Eek6v8gADBmX1xHcJ6y-nVbhw63QCpJt9OvZ3AALVwDEbC_SxU7G4aTynOkOvAQADAgADcwADNAQ', file_size=1555, file_unique_id='AQAD1cAxGwv0sVN4', height=74, width=90), PhotoSize(file_id='AgACAgQAAx0Eek6v8gADBmX1xHcJ6y-nVbhw63QCpJt9OvZ3AALVwDEbC_SxU7G4aTynOkOvAQADAgADbQADNAQ', file_size=17673, file_unique_id='AQAD1cAxGwv0sVNy', height=264, width=320), PhotoSize(file_id='AgACAgQAAx0Eek6v8gADBmX1xHcJ6y-nVbhw63QCpJt9OvZ3AALVwDEbC_SxU7G4aTynOkOvAQADAgADeAADNAQ', file_size=31958, file_unique_id='AQAD1cAxGwv0sVN9', height=398, width=483)), sender_chat=Chat(id=-1002051977202, title='Videos', type=<ChatType.CHANNEL>, username='videos_test_ag'), supergroup_chat_created=False)"
      ]
     },
     "execution_count": 6,
     "metadata": {},
     "output_type": "execute_result"
    }
   ],
   "source": [
    "photo = open('photo.png', 'rb')\n",
    "await bot.send_photo(config.test_chat_id, photo=photo)"
   ]
  },
  {
   "cell_type": "code",
   "execution_count": 7,
   "metadata": {},
   "outputs": [
    {
     "data": {
      "text/plain": [
       "Message(channel_chat_created=False, chat=Chat(id=-1002051977202, title='Videos', type=<ChatType.CHANNEL>, username='videos_test_ag'), date=datetime.datetime(2024, 3, 16, 16, 13, 8, tzinfo=datetime.timezone.utc), delete_chat_photo=False, group_chat_created=False, message_id=7, sender_chat=Chat(id=-1002051977202, title='Videos', type=<ChatType.CHANNEL>, username='videos_test_ag'), supergroup_chat_created=False, video=Video(api_kwargs={'thumb': {'file_id': 'AAMCBAADHQR6Tq_yAAMHZfXFFMEd3ExYe-RrnxWRVsA9DfcAAkIUAAIL9LFTBRvLn48gYtUBAAdtAAM0BA', 'file_unique_id': 'AQADQhQAAgv0sVNy', 'file_size': 15463, 'width': 180, 'height': 320}}, duration=8, file_id='BAACAgQAAx0Eek6v8gADB2X1xRTBHdxMWHvka58VkVbAPQ33AAJCFAACC_SxUwUby5-PIGLVNAQ', file_name='video.mp4', file_size=2508703, file_unique_id='AgADQhQAAgv0sVM', height=1280, mime_type='video/mp4', thumbnail=PhotoSize(file_id='AAMCBAADHQR6Tq_yAAMHZfXFFMEd3ExYe-RrnxWRVsA9DfcAAkIUAAIL9LFTBRvLn48gYtUBAAdtAAM0BA', file_size=15463, file_unique_id='AQADQhQAAgv0sVNy', height=320, width=180), width=720))"
      ]
     },
     "execution_count": 7,
     "metadata": {},
     "output_type": "execute_result"
    }
   ],
   "source": [
    "video = open('video.mp4', 'rb')\n",
    "await bot.send_video(config.test_chat_id, video=video)"
   ]
  }
 ],
 "metadata": {
  "kernelspec": {
   "display_name": ".venv",
   "language": "python",
   "name": "python3"
  },
  "language_info": {
   "codemirror_mode": {
    "name": "ipython",
    "version": 3
   },
   "file_extension": ".py",
   "mimetype": "text/x-python",
   "name": "python",
   "nbconvert_exporter": "python",
   "pygments_lexer": "ipython3",
   "version": "3.10.11"
  }
 },
 "nbformat": 4,
 "nbformat_minor": 2
}
